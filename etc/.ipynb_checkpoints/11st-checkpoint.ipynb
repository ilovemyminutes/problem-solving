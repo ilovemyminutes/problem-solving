{
 "cells": [
  {
   "cell_type": "code",
   "execution_count": 90,
   "metadata": {},
   "outputs": [],
   "source": [
    "def solution(A):\n",
    "    moment = 0\n",
    "    light_status = [0 for i in range(len(A))]\n",
    "    \n",
    "    for bulb_idx in A:\n",
    "        light_status[bulb_idx-1] = 1\n",
    "        need_on = [i for i in range(1, bulb_idx)] # 다 켜져야할 앞 전구들\n",
    "        magic_num = len(need_on)\n",
    "        compare_num = 0\n",
    "\n",
    "        for check_idx in need_on:\n",
    "            if light_status[check_idx-1] == 1:\n",
    "                compare_num += 1\n",
    "            else:\n",
    "                pass\n",
    "        if compare_num == magic_num:\n",
    "            moment +=1\n",
    "    return moment"
   ]
  },
  {
   "cell_type": "code",
   "execution_count": 115,
   "metadata": {},
   "outputs": [],
   "source": [
    "def solution(S):\n",
    "    for kernel_size in range(1, len(S)):\n",
    "        n_filter = len(S) - kernel_size + 1\n",
    "        vocab_dict = dict()\n",
    "        for edge in range(n_filter):\n",
    "            temp = vocab_dict.get(S[edge:edge+kernel_size], None)\n",
    "            if temp is None:\n",
    "                vocab_dict[S[edge:edge+kernel_size]] = 1\n",
    "            else:\n",
    "                vocab_dict[S[edge:edge+kernel_size]] += 1\n",
    "        if 1 in vocab_dict.values():\n",
    "            break\n",
    "    result = {j: i for i, j in zip(vocab_dict.keys(), vocab_dict.values())}\n",
    "    \n",
    "    return len(result[1])"
   ]
  },
  {
   "cell_type": "code",
   "execution_count": 252,
   "metadata": {},
   "outputs": [],
   "source": [
    "def solution(S):\n",
    "    appear_list = list(set(S))\n",
    "    freq_dict = {i:0 for i in appear_list}\n",
    "\n",
    "    for char in S:\n",
    "        freq_dict[char] += 1\n",
    "\n",
    "    freq_appear_list = list(set(freq_dict.values()))\n",
    "\n",
    "    freq_freq_dict = {i:0 for i in freq_appear_list}\n",
    "    for f in freq_dict.values():\n",
    "        freq_freq_dict[f] += 1\n",
    "    print(freq_freq_dict)\n",
    "    freq_list = list(freq_freq_dict.values())\n",
    "    result = 0\n",
    "    for i in freq_list:\n",
    "        if i > 1:\n",
    "            result += (i - 1)\n",
    "            \n",
    "    return result"
   ]
  }
 ],
 "metadata": {
  "kernelspec": {
   "display_name": "Python 3",
   "language": "python",
   "name": "python3"
  },
  "language_info": {
   "codemirror_mode": {
    "name": "ipython",
    "version": 3
   },
   "file_extension": ".py",
   "mimetype": "text/x-python",
   "name": "python",
   "nbconvert_exporter": "python",
   "pygments_lexer": "ipython3",
   "version": "3.7.9"
  }
 },
 "nbformat": 4,
 "nbformat_minor": 4
}
